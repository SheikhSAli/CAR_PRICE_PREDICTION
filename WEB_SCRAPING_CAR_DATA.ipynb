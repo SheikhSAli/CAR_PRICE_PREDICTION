{
 "cells": [
  {
   "cell_type": "code",
   "execution_count": 2,
   "metadata": {},
   "outputs": [
    {
     "name": "stderr",
     "output_type": "stream",
     "text": [
      "\n",
      "\n",
      "====== WebDriver manager ======\n",
      "Current google-chrome version is 92.0.4515\n",
      "Get LATEST driver version for 92.0.4515\n",
      "Get LATEST driver version for 92.0.4515\n",
      "Trying to download new driver from https://chromedriver.storage.googleapis.com/92.0.4515.107/chromedriver_win32.zip\n",
      "Driver has been saved in cache [C:\\Users\\Neeti\\.wdm\\drivers\\chromedriver\\win32\\92.0.4515.107]\n"
     ]
    }
   ],
   "source": [
    "# Importing Libraries\n",
    "import selenium\n",
    "import pandas as pd\n",
    "import time\n",
    "from bs4 import BeautifulSoup\n",
    "\n",
    "#!pip install webdriver-manager\n",
    "\n",
    "# Importing selenium webdriver \n",
    "from selenium import webdriver \n",
    "from webdriver_manager.chrome import ChromeDriverManager\n",
    "\n",
    "#connect to the webdriver\n",
    "driver = webdriver.Chrome(ChromeDriverManager().install())\n",
    "\n",
    "\n",
    "# Importing required Exceptions which needs to handled\n",
    "from selenium.common.exceptions import StaleElementReferenceException, NoSuchElementException\n",
    "\n",
    "#Importing requests\n",
    "import requests\n",
    "\n",
    "# importing regex\n",
    "import re"
   ]
  },
  {
   "cell_type": "code",
   "execution_count": 48,
   "metadata": {},
   "outputs": [
    {
     "name": "stdout",
     "output_type": "stream",
     "text": [
      "Enter the product you want to search : used Sedan cars\n"
     ]
    }
   ],
   "source": [
    "#Opening the url\n",
    "url='https://www.olx.in/'\n",
    "driver.get(url)\n",
    "\n",
    "time.sleep(2)\n",
    "# Asking the user to input the keywords he/she wants to search\n",
    "user_inp = input('Enter the product you want to search : ')"
   ]
  },
  {
   "cell_type": "code",
   "execution_count": 49,
   "metadata": {},
   "outputs": [],
   "source": [
    "search_bar = driver.find_element_by_xpath('//div[@class=\"zYZEU\"]//input')    # Locating search_bar by xpath\n",
    "search_bar.clear()                                               # clearing search_bar\n",
    "search_bar.send_keys(user_inp)                                   # sending user input to search bar\n",
    "search_button = driver.find_element_by_xpath('//div[@class=\"_3b3oR\"]')       # Locating search_button by xpath\n",
    "search_button.click()                                                                # Clicking the button to start search"
   ]
  },
  {
   "cell_type": "code",
   "execution_count": 51,
   "metadata": {},
   "outputs": [],
   "source": [
    "# scrape all product urls\n",
    "urls=[]\n",
    "for i in range(0,1):#for loop for scrapping 1 page\n",
    "    for j in driver.find_elements_by_xpath('//li[@class=\"EIR5N\"]//a'):\n",
    "        urls.append(j.get_attribute('href'))"
   ]
  },
  {
   "cell_type": "code",
   "execution_count": 52,
   "metadata": {},
   "outputs": [
    {
     "data": {
      "text/plain": [
       "['https://www.olx.in/item/bmw-7-series-750li-sedan-2009-petrol-iid-1646044011',\n",
       " 'https://www.olx.in/item/bmw-5-series-530i-sedan-2008-petrol-iid-1649152264',\n",
       " 'https://www.olx.in/item/bmw-5-series-525i-sedan-2008-petrol-iid-1632764011',\n",
       " 'https://www.olx.in/item/bmw-5-series-523i-sedan-2010-petrol-iid-1650118485',\n",
       " 'https://www.olx.in/item/bmw-5-series-530d-highline-sedan-2009-diesel-iid-1646632565',\n",
       " 'https://www.olx.in/item/bmw-5-series-2010-2013-520d-sedan-2010-diesel-iid-1638911133',\n",
       " 'https://www.olx.in/item/bmw-5-series-530i-sedan-2008-petrol-iid-1649301615',\n",
       " 'https://www.olx.in/item/bmw-3-series-325i-sedan-2008-petrol-iid-1534169782',\n",
       " 'https://www.olx.in/item/bmw-3-series-320d-sedan-2011-diesel-iid-1631874896',\n",
       " 'https://www.olx.in/item/bmw-7-series-730ld-sedan-2015-diesel-iid-1650092709',\n",
       " 'https://www.olx.in/item/sell-or-exchange-with-cng-sedan-iid-1650866261',\n",
       " 'https://www.olx.in/item/bmw-3-series-2005-2011-330d-sedan-2008-diesel-iid-1643560414',\n",
       " 'https://www.olx.in/item/bmw-7-series-760i-sedan-2012-iid-1584440934',\n",
       " 'https://www.olx.in/item/bmw-3-series-325i-sedan-2008-petrol-iid-1649857532',\n",
       " 'https://www.olx.in/item/bmw-7-series-730ld-sedan-2010-diesel-iid-1634000481',\n",
       " 'https://www.olx.in/item/maruti-suzuki-alto-2007-exchange-with-sedan-car-diggi-howe-jiss-dr-iid-1650842909',\n",
       " 'https://www.olx.in/item/best-condition-etios-g-petrol-sedan-for-sale-iid-1650835742',\n",
       " 'https://www.olx.in/item/bmw-7-series-730ld-sedan-2013-diesel-iid-1650830290',\n",
       " 'https://www.olx.in/item/bmw-5-series-2010-2013-520d-sedan-2010-diesel-iid-1605473013',\n",
       " 'https://www.olx.in/item/bmw-3-series-320d-sedan-2010-diesel-iid-1647050060']"
      ]
     },
     "execution_count": 52,
     "metadata": {},
     "output_type": "execute_result"
    }
   ],
   "source": [
    "urls"
   ]
  },
  {
   "cell_type": "code",
   "execution_count": 53,
   "metadata": {},
   "outputs": [
    {
     "data": {
      "text/plain": [
       "20"
      ]
     },
     "execution_count": 53,
     "metadata": {},
     "output_type": "execute_result"
    }
   ],
   "source": [
    "len(urls)"
   ]
  },
  {
   "cell_type": "code",
   "execution_count": 3,
   "metadata": {},
   "outputs": [],
   "source": [
    "#defining variables\n",
    "model_list=[]\n",
    "year_km_list=[]\n",
    "location_list=[]\n",
    "price_list=[]"
   ]
  },
  {
   "cell_type": "code",
   "execution_count": 55,
   "metadata": {},
   "outputs": [],
   "source": [
    "#fetching price of the used car\n",
    "for i in urls:\n",
    "    driver.get(i)\n",
    "    time.sleep(3)\n",
    "try:\n",
    "    for j in driver.find_elements_by_xpath('//span[@class=\"_89yzn\"]'):\n",
    "        price_list.append(j.text)\n",
    "        \n",
    "except NoSuchElementException:\n",
    "    price_list.append('-')"
   ]
  },
  {
   "cell_type": "code",
   "execution_count": 56,
   "metadata": {},
   "outputs": [
    {
     "data": {
      "text/plain": [
       "['₹ 6,95,000',\n",
       " '₹ 5,45,000',\n",
       " '₹ 6,95,000',\n",
       " '₹ 5,49,000',\n",
       " '₹ 6,20,000',\n",
       " '₹ 5,75,000',\n",
       " '₹ 7,00,000',\n",
       " '₹ 5,80,000']"
      ]
     },
     "execution_count": 56,
     "metadata": {},
     "output_type": "execute_result"
    }
   ],
   "source": [
    "price_list"
   ]
  },
  {
   "cell_type": "code",
   "execution_count": 57,
   "metadata": {},
   "outputs": [
    {
     "data": {
      "text/plain": [
       "8"
      ]
     },
     "execution_count": 57,
     "metadata": {},
     "output_type": "execute_result"
    }
   ],
   "source": [
    "len(price_list)"
   ]
  },
  {
   "cell_type": "code",
   "execution_count": 58,
   "metadata": {},
   "outputs": [],
   "source": [
    "#fetching year and km of the used car\n",
    "for i in urls:\n",
    "    driver.get(i)\n",
    "    time.sleep(3)\n",
    "try:\n",
    "    for j in driver.find_elements_by_xpath('//div[@class=\"IKo3_\"]/span[2]'):\n",
    "        year_km_list.append(j.text)\n",
    "        \n",
    "except NoSuchElementException:\n",
    "    year_km_list.append('-')"
   ]
  },
  {
   "cell_type": "code",
   "execution_count": 59,
   "metadata": {},
   "outputs": [
    {
     "data": {
      "text/plain": [
       "['2011 - 88,000 km',\n",
       " '2010 - 120,000 km',\n",
       " '2011 - 88,000 km',\n",
       " '2007 - 62,000 km',\n",
       " '2008 - 96,000 km',\n",
       " '2009 - 129,000 km',\n",
       " '2011 - 89,000 km',\n",
       " '2008 - 60,000 km']"
      ]
     },
     "execution_count": 59,
     "metadata": {},
     "output_type": "execute_result"
    }
   ],
   "source": [
    "year_km_list"
   ]
  },
  {
   "cell_type": "code",
   "execution_count": 60,
   "metadata": {},
   "outputs": [
    {
     "data": {
      "text/plain": [
       "8"
      ]
     },
     "execution_count": 60,
     "metadata": {},
     "output_type": "execute_result"
    }
   ],
   "source": [
    "len(year_km_list)"
   ]
  },
  {
   "cell_type": "code",
   "execution_count": 61,
   "metadata": {},
   "outputs": [],
   "source": [
    "#fetching model of the used car\n",
    "for i in urls:\n",
    "    driver.get(i)\n",
    "    time.sleep(3)\n",
    "try:\n",
    "    for j in driver.find_elements_by_xpath('//span[@class=\"_2tW1I\"]'):\n",
    "        model_list.append(j.text)\n",
    "        \n",
    "except NoSuchElementException:\n",
    "    model_list.append('-')"
   ]
  },
  {
   "cell_type": "code",
   "execution_count": 62,
   "metadata": {},
   "outputs": [
    {
     "data": {
      "text/plain": [
       "['BMW 3 Series 320d, 2011, Diesel',\n",
       " 'BMW 3 Series 320d Sedan, 2010, Diesel',\n",
       " 'BMW 3 Series 320d, 2011, Diesel',\n",
       " 'Audi A6 35 TDI, 2007, Diesel',\n",
       " 'BMW 530d Diesel',\n",
       " 'Audi A6 2009-2011 2.7 TDI, 2009, Diesel',\n",
       " 'Mercedes-Benz New C-Class C 250 CDI Elegance, 2011, Diesel',\n",
       " 'Audi A4 2008-2014 2.0 TDI Celebration Edition, 2008, Diesel']"
      ]
     },
     "execution_count": 62,
     "metadata": {},
     "output_type": "execute_result"
    }
   ],
   "source": [
    "model_list"
   ]
  },
  {
   "cell_type": "code",
   "execution_count": 63,
   "metadata": {},
   "outputs": [
    {
     "data": {
      "text/plain": [
       "8"
      ]
     },
     "execution_count": 63,
     "metadata": {},
     "output_type": "execute_result"
    }
   ],
   "source": [
    "len(model_list)"
   ]
  },
  {
   "cell_type": "code",
   "execution_count": 64,
   "metadata": {},
   "outputs": [],
   "source": [
    "#fetching location of the used car\n",
    "for i in urls:\n",
    "    driver.get(i)\n",
    "    time.sleep(3)\n",
    "try:\n",
    "    for j in driver.find_elements_by_xpath('//span[@class=\"tjgMj\"]'):\n",
    "        location_list.append(j.text)\n",
    "        \n",
    "except NoSuchElementException:\n",
    "    location_list.append('-')"
   ]
  },
  {
   "cell_type": "code",
   "execution_count": 65,
   "metadata": {},
   "outputs": [
    {
     "data": {
      "text/plain": [
       "['ANDHERI EAST, MUMBAI',\n",
       " 'GOREGAON EAST, MUMBAI',\n",
       " 'THANE WEST, THANE',\n",
       " 'THANE BELAPUR ROAD, THANE',\n",
       " 'ANDHERI EAST, MUMBAI',\n",
       " 'THANE WEST, THANE',\n",
       " 'ANDHERI EAST, MUMBAI',\n",
       " 'DAHISAR EAST, MUMBAI']"
      ]
     },
     "execution_count": 65,
     "metadata": {},
     "output_type": "execute_result"
    }
   ],
   "source": [
    "location_list"
   ]
  },
  {
   "cell_type": "code",
   "execution_count": 66,
   "metadata": {},
   "outputs": [
    {
     "data": {
      "text/plain": [
       "8"
      ]
     },
     "execution_count": 66,
     "metadata": {},
     "output_type": "execute_result"
    }
   ],
   "source": [
    "len(location_list)"
   ]
  },
  {
   "cell_type": "code",
   "execution_count": 8,
   "metadata": {},
   "outputs": [
    {
     "name": "stdout",
     "output_type": "stream",
     "text": [
      "Enter the product you want to search : used SUV cars\n"
     ]
    }
   ],
   "source": [
    "#Opening the url\n",
    "url='https://www.olx.in/'\n",
    "driver.get(url)\n",
    "\n",
    "time.sleep(2)\n",
    "# Asking the user to input the keywords he/she wants to search\n",
    "user_inp = input('Enter the product you want to search : ')"
   ]
  },
  {
   "cell_type": "code",
   "execution_count": 9,
   "metadata": {},
   "outputs": [],
   "source": [
    "search_bar = driver.find_element_by_xpath('//div[@class=\"zYZEU\"]//input')    # Locating search_bar by xpath\n",
    "search_bar.clear()                                               # clearing search_bar\n",
    "search_bar.send_keys(user_inp)                                   # sending user input to search bar\n",
    "search_button = driver.find_element_by_xpath('//div[@class=\"_3b3oR\"]')       # Locating search_button by xpath\n",
    "search_button.click()                                                 "
   ]
  },
  {
   "cell_type": "code",
   "execution_count": 10,
   "metadata": {},
   "outputs": [],
   "source": [
    "product_urls = []\n",
    "start=0\n",
    "end=2\n",
    "for page in range(start,end):#for loop for scrapping 2 page\n",
    "    url=driver.find_elements_by_xpath('//li[@class=\"EIR5N\"]//a')       #scraping urls\n",
    "    for i in url:\n",
    "        product_urls.append(i.get_attribute(\"href\"))                        #appending the urls in product_urls list\n",
    "    nxt_button=driver.find_element_by_xpath(\"//button[@class='rui-39-wj rui-3evoE rui-1JPTg']\")     #scraping the list of buttons from the page\n",
    "    nxt_button.click()\n",
    "    time.sleep(2)"
   ]
  },
  {
   "cell_type": "code",
   "execution_count": 11,
   "metadata": {},
   "outputs": [
    {
     "data": {
      "text/plain": [
       "['https://www.olx.in/item/hummer-h3-suv-2007-petrol-iid-1648640594',\n",
       " 'https://www.olx.in/item/mahindra-commander-armada-bolero-thar-jeep-suv-off-road-type-iid-1634259732',\n",
       " 'https://www.olx.in/item/alloy-wheels-for-all-cars-suv-price-starting-from-21000-4-iid-1524613407',\n",
       " 'https://www.olx.in/item/good-condition-suv-car-top-model-iid-1650977853',\n",
       " 'https://www.olx.in/item/exilent-suv-iid-1650929179',\n",
       " 'https://www.olx.in/item/cars-suv-bikes-body-guard-roll-iid-1589196181',\n",
       " 'https://www.olx.in/item/mahindra-quanto-suv-2015-7-seater-iid-1650901693',\n",
       " 'https://www.olx.in/item/renault-captur-2019-suv-for-sale-dual-tone--iid-1650822454',\n",
       " 'https://www.olx.in/item/best-7-seater-suv-iid-1650798486',\n",
       " 'https://www.olx.in/item/suv-and-sedan-cars-i-give-rent-iid-1650683466',\n",
       " 'https://www.olx.in/item/sparingly-used-personal-honda-brv-v-diesel-suv-iid-1650662486',\n",
       " 'https://www.olx.in/item/excellent-compact-suv-with-good-mileage-of-22km-per-ltr-iid-1650625135',\n",
       " 'https://www.olx.in/item/kia-seltos-gt-line-suv-year-2020-petrol-turbo-11000-km-driven-iid-1648332274',\n",
       " 'https://www.olx.in/item/best-suv-untuch-iid-1650433465',\n",
       " 'https://www.olx.in/item/hummer-h3-suv-2007-petrol-iid-1637745211',\n",
       " 'https://www.olx.in/item/for-sale-suv-land-rover-iid-1650305046',\n",
       " 'https://www.olx.in/item/hummer-h3-suv-2010-petrol-iid-1627702717',\n",
       " 'https://www.olx.in/item/force-one-suv-iid-1561710472',\n",
       " 'https://www.olx.in/item/urgent-selling-suv-new-nissan-kicks-iid-1650263239',\n",
       " 'https://www.olx.in/item/suv-toyota-fortuner-automatic-2014-model-iid-1650190353',\n",
       " 'https://www.olx.in/item/hummer-h3-suv-2007-petrol-iid-1648640594',\n",
       " 'https://www.olx.in/item/mahindra-commander-armada-bolero-thar-jeep-suv-off-road-type-iid-1634259732',\n",
       " 'https://www.olx.in/item/alloy-wheels-for-all-cars-suv-price-starting-from-21000-4-iid-1524613407',\n",
       " 'https://www.olx.in/item/good-condition-suv-car-top-model-iid-1650977853',\n",
       " 'https://www.olx.in/item/exilent-suv-iid-1650929179',\n",
       " 'https://www.olx.in/item/cars-suv-bikes-body-guard-roll-iid-1589196181',\n",
       " 'https://www.olx.in/item/mahindra-quanto-suv-2015-7-seater-iid-1650901693',\n",
       " 'https://www.olx.in/item/renault-captur-2019-suv-for-sale-dual-tone--iid-1650822454',\n",
       " 'https://www.olx.in/item/best-7-seater-suv-iid-1650798486',\n",
       " 'https://www.olx.in/item/suv-and-sedan-cars-i-give-rent-iid-1650683466',\n",
       " 'https://www.olx.in/item/sparingly-used-personal-honda-brv-v-diesel-suv-iid-1650662486',\n",
       " 'https://www.olx.in/item/excellent-compact-suv-with-good-mileage-of-22km-per-ltr-iid-1650625135',\n",
       " 'https://www.olx.in/item/kia-seltos-gt-line-suv-year-2020-petrol-turbo-11000-km-driven-iid-1648332274',\n",
       " 'https://www.olx.in/item/best-suv-untuch-iid-1650433465',\n",
       " 'https://www.olx.in/item/hummer-h3-suv-2007-petrol-iid-1637745211',\n",
       " 'https://www.olx.in/item/for-sale-suv-land-rover-iid-1650305046',\n",
       " 'https://www.olx.in/item/hummer-h3-suv-2010-petrol-iid-1627702717',\n",
       " 'https://www.olx.in/item/force-one-suv-iid-1561710472',\n",
       " 'https://www.olx.in/item/urgent-selling-suv-new-nissan-kicks-iid-1650263239',\n",
       " 'https://www.olx.in/item/suv-toyota-fortuner-automatic-2014-model-iid-1650190353',\n",
       " 'https://www.olx.in/item/car-rental-all-india-suv-15-km-iid-1650166577',\n",
       " 'https://www.olx.in/item/hummer-h2-suv-2020-petrol-iid-1650126447',\n",
       " 'https://www.olx.in/item/mahindra-bolero-2014-diesel-85000-km-driven-good-condition-suv-iid-1650108652',\n",
       " 'https://www.olx.in/item/kids-battery-carjeep-big-suv-type-iid-1628666735',\n",
       " 'https://www.olx.in/item/selling-because-buying-another-suv-iid-1650006882',\n",
       " 'https://www.olx.in/item/driver-for-car-and-suv-iid-1649996048',\n",
       " 'https://www.olx.in/item/all-types-of-suvs-and-cars-and-jcb-are-for-sale-iid-1649958935',\n",
       " 'https://www.olx.in/item/tata-aria-diesel-suv-2011-top-model-iid-1615858473',\n",
       " 'https://www.olx.in/item/ml-250-benz-suv-5seater-iid-1649844832',\n",
       " 'https://www.olx.in/item/nissan-kicks-suv-2019-petrol-model-iid-1649801388',\n",
       " 'https://www.olx.in/item/ertiga-7str-suv-car-self-drive-available-iid-1649795390',\n",
       " 'https://www.olx.in/item/selling-my-car-roof-carrier-of-suv-iid-1649764447',\n",
       " 'https://www.olx.in/item/maruti-suzuki-ertiga-family-suv-in-mint-condition-iid-1649743373',\n",
       " 'https://www.olx.in/item/hyundai-i20-2011-petrol-well-maintained-iid-1644724759',\n",
       " 'https://www.olx.in/item/nri-owned-rarely-used-car-for-sale-or-exchange-with-suv-iid-1649735804',\n",
       " 'https://www.olx.in/item/toyota-fortuner-2011-diesel-30-diesel-4wd-mt-suv-iid-1641958756',\n",
       " 'https://www.olx.in/item/montero-4x4-suv-throwaway-price-iid-1538068049',\n",
       " 'https://www.olx.in/item/well-maintained-superb-7-seater-suv-iid-1649550457',\n",
       " 'https://www.olx.in/item/2018-mercedes-benz-gla-200d-sport-edition-4matic-luxury-suv-iid-1649535136',\n",
       " 'https://www.olx.in/item/it-is-a-suv-well-maintained-iid-1649460157']"
      ]
     },
     "execution_count": 11,
     "metadata": {},
     "output_type": "execute_result"
    }
   ],
   "source": [
    "product_urls"
   ]
  },
  {
   "cell_type": "code",
   "execution_count": 12,
   "metadata": {},
   "outputs": [
    {
     "data": {
      "text/plain": [
       "60"
      ]
     },
     "execution_count": 12,
     "metadata": {},
     "output_type": "execute_result"
    }
   ],
   "source": [
    "len(product_urls)"
   ]
  },
  {
   "cell_type": "code",
   "execution_count": 16,
   "metadata": {},
   "outputs": [],
   "source": [
    "#fetching price of the used car\n",
    "for i in product_urls:\n",
    "    driver.get(i)\n",
    "    time.sleep(3)\n",
    "try:\n",
    "    for j in driver.find_elements_by_xpath('//span[@class=\"_89yzn\"]'):\n",
    "        price_list.append(j.text)\n",
    "        \n",
    "except NoSuchElementException:\n",
    "    price_list.append('-')"
   ]
  },
  {
   "cell_type": "code",
   "execution_count": 17,
   "metadata": {},
   "outputs": [
    {
     "data": {
      "text/plain": [
       "['₹ 4,10,000',\n",
       " '₹ 3,50,000',\n",
       " '₹ 3,25,000',\n",
       " '₹ 2,95,000',\n",
       " '₹ 5,00,000',\n",
       " '₹ 3,15,000',\n",
       " '₹ 3,25,000',\n",
       " '₹ 5,00,000',\n",
       " '₹ 5,00,000',\n",
       " '₹ 5,00,000',\n",
       " '₹ 3,80,000',\n",
       " '₹ 3,10,000',\n",
       " '₹ 3,20,000',\n",
       " '₹ 2,95,000']"
      ]
     },
     "execution_count": 17,
     "metadata": {},
     "output_type": "execute_result"
    }
   ],
   "source": [
    "price_list"
   ]
  },
  {
   "cell_type": "code",
   "execution_count": 18,
   "metadata": {},
   "outputs": [
    {
     "data": {
      "text/plain": [
       "14"
      ]
     },
     "execution_count": 18,
     "metadata": {},
     "output_type": "execute_result"
    }
   ],
   "source": [
    "len(price_list)"
   ]
  },
  {
   "cell_type": "code",
   "execution_count": 19,
   "metadata": {},
   "outputs": [],
   "source": [
    "#fetching model of the used car\n",
    "for i in product_urls:\n",
    "    driver.get(i)\n",
    "    time.sleep(3)\n",
    "try:\n",
    "    for j in driver.find_elements_by_xpath('//span[@class=\"_2tW1I\"]'):\n",
    "        model_list.append(j.text)\n",
    "        \n",
    "except NoSuchElementException:\n",
    "    model_list.append('-')"
   ]
  },
  {
   "cell_type": "code",
   "execution_count": 20,
   "metadata": {},
   "outputs": [
    {
     "data": {
      "text/plain": [
       "['2011 Model Tata Safari',\n",
       " 'Tata Safari for sale',\n",
       " '2009 Tata Safari Diesel Well Maintained',\n",
       " 'Fiat Linea 2007-2013 Emotion Pack (Diesel), 2013, Diesel',\n",
       " 'Company service tvm regi accidentfree call',\n",
       " 'Honda City 2008-2011 1.5 V MT Exclusive, 2010, Petrol',\n",
       " 'Honda City 2010 Petrol Good Condition',\n",
       " 'Tata Cars available',\n",
       " 'Tata Cars Available',\n",
       " 'Tata cars available',\n",
       " 'Mahindra Xylo D4, 2012, Diesel',\n",
       " 'Mahindra Xylo 2009-2011 E4, 2011, Diesel',\n",
       " 'Mahindra Xylo E4 2012 Diesel Good Condition',\n",
       " 'Mahindra Xylo 2010 Diesel 1 Km Driven']"
      ]
     },
     "execution_count": 20,
     "metadata": {},
     "output_type": "execute_result"
    }
   ],
   "source": [
    "model_list"
   ]
  },
  {
   "cell_type": "code",
   "execution_count": 21,
   "metadata": {},
   "outputs": [
    {
     "data": {
      "text/plain": [
       "14"
      ]
     },
     "execution_count": 21,
     "metadata": {},
     "output_type": "execute_result"
    }
   ],
   "source": [
    "len(model_list)"
   ]
  },
  {
   "cell_type": "code",
   "execution_count": 22,
   "metadata": {},
   "outputs": [],
   "source": [
    "#fetching year and km of the used car\n",
    "for i in product_urls:\n",
    "    driver.get(i)\n",
    "    time.sleep(3)\n",
    "try:\n",
    "    for j in driver.find_elements_by_xpath('//div[@class=\"IKo3_\"]/span[2]'):\n",
    "        year_km_list.append(j.text)\n",
    "        \n",
    "except NoSuchElementException:\n",
    "    year_km_list.append('-')"
   ]
  },
  {
   "cell_type": "code",
   "execution_count": 23,
   "metadata": {},
   "outputs": [
    {
     "data": {
      "text/plain": [
       "['2011 - 76,000 km',\n",
       " '2008 - 107,000 km',\n",
       " '2009 - 138,000 km',\n",
       " '2013 - 68,000 km',\n",
       " '2014 - 145 km',\n",
       " '2010 - 150,000 km',\n",
       " '2010 - 152,000 km',\n",
       " '2021 - 0 km',\n",
       " '2021 - 0 km',\n",
       " '2021 - 0 km',\n",
       " '2012 - 80,000 km',\n",
       " '2011 - 160,000 km',\n",
       " '2012 - 102,000 km',\n",
       " '2010 - 1 km']"
      ]
     },
     "execution_count": 23,
     "metadata": {},
     "output_type": "execute_result"
    }
   ],
   "source": [
    "year_km_list"
   ]
  },
  {
   "cell_type": "code",
   "execution_count": 24,
   "metadata": {},
   "outputs": [
    {
     "data": {
      "text/plain": [
       "14"
      ]
     },
     "execution_count": 24,
     "metadata": {},
     "output_type": "execute_result"
    }
   ],
   "source": [
    "len(year_km_list)"
   ]
  },
  {
   "cell_type": "code",
   "execution_count": 25,
   "metadata": {},
   "outputs": [],
   "source": [
    "#fetching location of the used car\n",
    "for i in product_urls:\n",
    "    driver.get(i)\n",
    "    time.sleep(3)\n",
    "try:\n",
    "    for j in driver.find_elements_by_xpath('//span[@class=\"tjgMj\"]'):\n",
    "        location_list.append(j.text)\n",
    "        \n",
    "except NoSuchElementException:\n",
    "    location_list.append('-')"
   ]
  },
  {
   "cell_type": "code",
   "execution_count": 26,
   "metadata": {},
   "outputs": [
    {
     "data": {
      "text/plain": [
       "['PEROORKADA, THIRUVANANTHAPURAM',\n",
       " 'VATTIYOORKAVU, THIRUVANANTHAPURAM',\n",
       " 'PATTOM, THIRUVANANTHAPURAM',\n",
       " 'KARAMANA, THIRUVANANTHAPURAM',\n",
       " 'VATTAPARA, THIRUVANANTHAPURAM',\n",
       " 'NANDAVANAM, THIRUVANANTHAPURAM',\n",
       " 'KALADY, THIRUVANANTHAPURAM',\n",
       " 'NEERAMANKARA, THIRUVANANTHAPURAM',\n",
       " 'NEERAMANKARA, THIRUVANANTHAPURAM',\n",
       " 'NEERAMANKARA, THIRUVANANTHAPURAM',\n",
       " 'GOWRI NAGAR, THIRUVANANTHAPURAM',\n",
       " 'ANAYARA, THIRUVANANTHAPURAM',\n",
       " 'KARAMANA, THIRUVANANTHAPURAM',\n",
       " 'ANTHIYOORKONAM, THIRUVANANTHAPURAM']"
      ]
     },
     "execution_count": 26,
     "metadata": {},
     "output_type": "execute_result"
    }
   ],
   "source": [
    "location_list"
   ]
  },
  {
   "cell_type": "code",
   "execution_count": 27,
   "metadata": {},
   "outputs": [
    {
     "data": {
      "text/plain": [
       "14"
      ]
     },
     "execution_count": 27,
     "metadata": {},
     "output_type": "execute_result"
    }
   ],
   "source": [
    "len(location_list)"
   ]
  },
  {
   "cell_type": "code",
   "execution_count": 47,
   "metadata": {},
   "outputs": [
    {
     "name": "stdout",
     "output_type": "stream",
     "text": [
      "Enter the product you want to search : used minivan cars\n"
     ]
    }
   ],
   "source": [
    "#Opening the url\n",
    "url='https://www.olx.in/'\n",
    "driver.get(url)\n",
    "\n",
    "time.sleep(2)\n",
    "# Asking the user to input the keywords he/she wants to search\n",
    "user_inp = input('Enter the product you want to search : ')"
   ]
  },
  {
   "cell_type": "code",
   "execution_count": 48,
   "metadata": {},
   "outputs": [],
   "source": [
    "search_bar = driver.find_element_by_xpath('//div[@class=\"zYZEU\"]//input')    # Locating search_bar by xpath\n",
    "search_bar.clear()                                               # clearing search_bar\n",
    "search_bar.send_keys(user_inp)                                   # sending user input to search bar\n",
    "search_button = driver.find_element_by_xpath('//div[@class=\"_3b3oR\"]')       # Locating search_button by xpath\n",
    "search_button.click()                                                 "
   ]
  },
  {
   "cell_type": "code",
   "execution_count": 49,
   "metadata": {},
   "outputs": [],
   "source": [
    "# scrape all product urls\n",
    "urls=[]\n",
    "for i in range(0,1):#for loop for scrapping 1 page\n",
    "    for j in driver.find_elements_by_xpath('//li[@class=\"EIR5N\"]//a'):\n",
    "        urls.append(j.get_attribute('href'))"
   ]
  },
  {
   "cell_type": "code",
   "execution_count": 50,
   "metadata": {},
   "outputs": [
    {
     "data": {
      "text/plain": [
       "['https://www.olx.in/item/i-am-selling-my-mahindra-maxximo-minivan-iid-1650646761',\n",
       " 'https://www.olx.in/item/mahendra-jeeto-minivan-iid-1650454565',\n",
       " 'https://www.olx.in/item/mahindra-jeeto-minivan-iid-1645302438',\n",
       " 'https://www.olx.in/item/mahindra-maximo-minivan-pure-ownboard-2013-iid-1634116453',\n",
       " 'https://www.olx.in/item/mahindra-jeeto-minivan-taxi-with-all-new-good-codition-iid-1648756956',\n",
       " 'https://www.olx.in/item/mahindra-maxximo-minivan-iid-1648258560',\n",
       " 'https://www.olx.in/item/mahindra-maxximo-minivan-iid-1615364531',\n",
       " 'https://www.olx.in/item/mahindra-maxximo-minivan-iid-1647367907',\n",
       " 'https://www.olx.in/item/jeeto-minivan-iid-1637137822',\n",
       " 'https://www.olx.in/item/mahindra-minivan-iid-1646958380',\n",
       " 'https://www.olx.in/item/maxximo-minivan-iid-1646857231',\n",
       " 'https://www.olx.in/item/jeeto-minivan-iid-1646146614',\n",
       " 'https://www.olx.in/item/mahindra-maxximo-minivan-new-battery-new-tyres-engine-work-done-iid-1640830909']"
      ]
     },
     "execution_count": 50,
     "metadata": {},
     "output_type": "execute_result"
    }
   ],
   "source": [
    "urls"
   ]
  },
  {
   "cell_type": "code",
   "execution_count": 51,
   "metadata": {},
   "outputs": [
    {
     "data": {
      "text/plain": [
       "13"
      ]
     },
     "execution_count": 51,
     "metadata": {},
     "output_type": "execute_result"
    }
   ],
   "source": [
    "len(urls)"
   ]
  },
  {
   "cell_type": "code",
   "execution_count": 52,
   "metadata": {},
   "outputs": [],
   "source": [
    "#fetching price of the used car\n",
    "for i in urls:\n",
    "    driver.get(i)\n",
    "    time.sleep(3)\n",
    "try:\n",
    "    for j in driver.find_elements_by_xpath('//span[@class=\"_89yzn\"]'):\n",
    "        price_list.append(j.text)\n",
    "        \n",
    "except NoSuchElementException:\n",
    "    price_list.append('-')\n"
   ]
  },
  {
   "cell_type": "code",
   "execution_count": 53,
   "metadata": {},
   "outputs": [
    {
     "data": {
      "text/plain": [
       "['₹ 1,49,999', '₹ 1,80,000', '₹ 1,30,000', '₹ 1,60,000', '₹ 1,88,500']"
      ]
     },
     "execution_count": 53,
     "metadata": {},
     "output_type": "execute_result"
    }
   ],
   "source": [
    "price_list"
   ]
  },
  {
   "cell_type": "code",
   "execution_count": 54,
   "metadata": {},
   "outputs": [
    {
     "data": {
      "text/plain": [
       "5"
      ]
     },
     "execution_count": 54,
     "metadata": {},
     "output_type": "execute_result"
    }
   ],
   "source": [
    "len(price_list)"
   ]
  },
  {
   "cell_type": "code",
   "execution_count": 55,
   "metadata": {},
   "outputs": [],
   "source": [
    "#fetching year and km of the used car\n",
    "for i in urls:\n",
    "    driver.get(i)\n",
    "    time.sleep(3)\n",
    "try:\n",
    "    for j in driver.find_elements_by_xpath('//div[@class=\"IKo3_\"]/span[2]'):\n",
    "        year_km_list.append(j.text)\n",
    "        \n",
    "except NoSuchElementException:\n",
    "    year_km_list.append('-')"
   ]
  },
  {
   "cell_type": "code",
   "execution_count": 56,
   "metadata": {},
   "outputs": [
    {
     "data": {
      "text/plain": [
       "['2012 - 119,000 km',\n",
       " '2011 - 72,000 km',\n",
       " '2005 - 112,000 km',\n",
       " '2013 - 37,350 km',\n",
       " '2009 - 122,000 km']"
      ]
     },
     "execution_count": 56,
     "metadata": {},
     "output_type": "execute_result"
    }
   ],
   "source": [
    "year_km_list"
   ]
  },
  {
   "cell_type": "code",
   "execution_count": 57,
   "metadata": {},
   "outputs": [
    {
     "data": {
      "text/plain": [
       "5"
      ]
     },
     "execution_count": 57,
     "metadata": {},
     "output_type": "execute_result"
    }
   ],
   "source": [
    "len(year_km_list)"
   ]
  },
  {
   "cell_type": "code",
   "execution_count": 58,
   "metadata": {},
   "outputs": [],
   "source": [
    "#fetching model of the used car\n",
    "for i in urls:\n",
    "    driver.get(i)\n",
    "    time.sleep(3)\n",
    "try:\n",
    "    for j in driver.find_elements_by_xpath('//span[@class=\"_2tW1I\"]'):\n",
    "        model_list.append(j.text)\n",
    "        \n",
    "except NoSuchElementException:\n",
    "    model_list.append('-')"
   ]
  },
  {
   "cell_type": "code",
   "execution_count": 59,
   "metadata": {},
   "outputs": [
    {
     "data": {
      "text/plain": [
       "['Mahindra maximo',\n",
       " 'Mahindra maximo mini van',\n",
       " 'Tata Sumo Victa 2005 Diesel 112000 Km Driven',\n",
       " 'Tata Nano 2013 Petrol Good Condition',\n",
       " 'For sale 2009 model .XYLO E2 M- Eagle CRDE.all paper new']"
      ]
     },
     "execution_count": 59,
     "metadata": {},
     "output_type": "execute_result"
    }
   ],
   "source": [
    "model_list"
   ]
  },
  {
   "cell_type": "code",
   "execution_count": 60,
   "metadata": {},
   "outputs": [
    {
     "data": {
      "text/plain": [
       "5"
      ]
     },
     "execution_count": 60,
     "metadata": {},
     "output_type": "execute_result"
    }
   ],
   "source": [
    "len(model_list)"
   ]
  },
  {
   "cell_type": "code",
   "execution_count": 61,
   "metadata": {},
   "outputs": [],
   "source": [
    "#fetching location of the used car\n",
    "for i in urls:\n",
    "    driver.get(i)\n",
    "    time.sleep(3)\n",
    "try:\n",
    "    for j in driver.find_elements_by_xpath('//span[@class=\"tjgMj\"]'):\n",
    "        location_list.append(j.text)\n",
    "        \n",
    "except NoSuchElementException:\n",
    "    location_list.append('-')"
   ]
  },
  {
   "cell_type": "code",
   "execution_count": 62,
   "metadata": {},
   "outputs": [
    {
     "data": {
      "text/plain": [
       "['AMBALLUR, PUTHUKKAD',\n",
       " 'TANA, IRINJALAKUDA',\n",
       " 'KODAKARA, THRISSUR',\n",
       " 'KODAKARA, THRISSUR',\n",
       " 'MAHAPURAM, IRINJALAKUDA']"
      ]
     },
     "execution_count": 62,
     "metadata": {},
     "output_type": "execute_result"
    }
   ],
   "source": [
    "location_list"
   ]
  },
  {
   "cell_type": "code",
   "execution_count": 63,
   "metadata": {},
   "outputs": [
    {
     "data": {
      "text/plain": [
       "5"
      ]
     },
     "execution_count": 63,
     "metadata": {},
     "output_type": "execute_result"
    }
   ],
   "source": [
    "len(location_list)"
   ]
  },
  {
   "cell_type": "code",
   "execution_count": 12,
   "metadata": {},
   "outputs": [
    {
     "name": "stdout",
     "output_type": "stream",
     "text": [
      "Enter the product you want to search : used coupe cars\n"
     ]
    }
   ],
   "source": [
    "#Opening the url\n",
    "url='https://www.olx.in/'\n",
    "driver.get(url)\n",
    "\n",
    "time.sleep(2)\n",
    "# Asking the user to input the keywords he/she wants to search\n",
    "user_inp = input('Enter the product you want to search : ')"
   ]
  },
  {
   "cell_type": "code",
   "execution_count": 13,
   "metadata": {},
   "outputs": [],
   "source": [
    "search_bar = driver.find_element_by_xpath('//div[@class=\"zYZEU\"]//input')    # Locating search_bar by xpath\n",
    "search_bar.clear()                                               # clearing search_bar\n",
    "search_bar.send_keys(user_inp)                                   # sending user input to search bar\n",
    "search_button = driver.find_element_by_xpath('//div[@class=\"_3b3oR\"]')       # Locating search_button by xpath\n",
    "search_button.click()                     "
   ]
  },
  {
   "cell_type": "code",
   "execution_count": 14,
   "metadata": {},
   "outputs": [],
   "source": [
    "# scrape all product urls\n",
    "urls=[]\n",
    "for i in range(0,1):#for loop for scrapping 1 page\n",
    "    for j in driver.find_elements_by_xpath('//li[@class=\"EIR5N\"]//a'):\n",
    "        urls.append(j.get_attribute('href'))"
   ]
  },
  {
   "cell_type": "code",
   "execution_count": 15,
   "metadata": {},
   "outputs": [
    {
     "data": {
      "text/plain": [
       "['https://www.olx.in/item/mercedes-benz-gle-coupe-others-2016-petrol-iid-1633289658',\n",
       " 'https://www.olx.in/item/bmw-6-series-2011-2014-640d-coupe-2013-diesel-iid-1649901068',\n",
       " 'https://www.olx.in/item/mercedes-benz-glc-class-43-amg-coupe-2019-petrol-iid-1637979555',\n",
       " 'https://www.olx.in/item/bmw-6-series-640d-gran-coupe-2012-diesel-iid-1626744103',\n",
       " 'https://www.olx.in/item/mercedes-benz-gle-43-amg-coupe-2019-petrol-25000-km-driven-iid-1651084514',\n",
       " 'https://www.olx.in/item/bmw-6-series-640d-gran-coupe-2013-diesel-iid-1634337552',\n",
       " 'https://www.olx.in/item/mercedes-benz-e-class-e350-coupe-1985-petrol-iid-1596499962',\n",
       " 'https://www.olx.in/item/mercedes-benz-glc-class-43-amg-coupe-2018-petrol-iid-1618914805',\n",
       " 'https://www.olx.in/item/bmw-6-series-640d-gran-coupe-2013-diesel-iid-1641050030',\n",
       " 'https://www.olx.in/item/bmw-6-series-2013-2015-640d-gran-coupe-2013-diesel-iid-1642180963',\n",
       " 'https://www.olx.in/item/bmw-6-series-640d-gran-coupe-2013-diesel-iid-1641049088',\n",
       " 'https://www.olx.in/item/mercedes-e350-coupe-2-door-sports-iid-1646506213',\n",
       " 'https://www.olx.in/item/new-tyre-company-service-iid-1651047672',\n",
       " 'https://www.olx.in/item/audi-tt-32-coupe-quattro-2011-petrol-iid-1648641186',\n",
       " 'https://www.olx.in/item/bmw-6-series-640d-gran-coupe-2014-diesel-iid-1651031796',\n",
       " 'https://www.olx.in/item/audi-rs5-coupe-2017-petrol-iid-1638396399',\n",
       " 'https://www.olx.in/item/bmw-6-series-2013-2015-640d-gran-coupe-2013-diesel-iid-1616487164',\n",
       " 'https://www.olx.in/item/audi-rs5-42-coupe-2014-petrol-iid-1650992589',\n",
       " 'https://www.olx.in/item/bmw-6-series-640d-gran-coupe-2013-diesel-iid-1648570092',\n",
       " 'https://www.olx.in/item/bmw-6-series-2011-2014-640d-coupe-2013-diesel-iid-1544127766']"
      ]
     },
     "execution_count": 15,
     "metadata": {},
     "output_type": "execute_result"
    }
   ],
   "source": [
    "urls"
   ]
  },
  {
   "cell_type": "code",
   "execution_count": 16,
   "metadata": {},
   "outputs": [
    {
     "data": {
      "text/plain": [
       "20"
      ]
     },
     "execution_count": 16,
     "metadata": {},
     "output_type": "execute_result"
    }
   ],
   "source": [
    "len(urls)"
   ]
  },
  {
   "cell_type": "code",
   "execution_count": 17,
   "metadata": {},
   "outputs": [],
   "source": [
    "#fetching price of the used car\n",
    "for i in urls:\n",
    "    driver.get(i)\n",
    "    time.sleep(3)\n",
    "try:\n",
    "    for j in driver.find_elements_by_xpath('//span[@class=\"_89yzn\"]'):\n",
    "        price_list.append(j.text)\n",
    "        \n",
    "except NoSuchElementException:\n",
    "    price_list.append('-')"
   ]
  },
  {
   "cell_type": "code",
   "execution_count": 18,
   "metadata": {},
   "outputs": [
    {
     "data": {
      "text/plain": [
       "['₹ 32,00,000', '₹ 31,99,000', '₹ 28,99,999', '₹ 39,99,999']"
      ]
     },
     "execution_count": 18,
     "metadata": {},
     "output_type": "execute_result"
    }
   ],
   "source": [
    "price_list"
   ]
  },
  {
   "cell_type": "code",
   "execution_count": 19,
   "metadata": {},
   "outputs": [
    {
     "data": {
      "text/plain": [
       "4"
      ]
     },
     "execution_count": 19,
     "metadata": {},
     "output_type": "execute_result"
    }
   ],
   "source": [
    "len(price_list)"
   ]
  },
  {
   "cell_type": "code",
   "execution_count": 20,
   "metadata": {},
   "outputs": [],
   "source": [
    "#fetching year and km of the used car\n",
    "for i in urls:\n",
    "    driver.get(i)\n",
    "    time.sleep(3)\n",
    "try:\n",
    "    for j in driver.find_elements_by_xpath('//div[@class=\"IKo3_\"]/span[2]'):\n",
    "        year_km_list.append(j.text)\n",
    "        \n",
    "except NoSuchElementException:\n",
    "    year_km_list.append('-')"
   ]
  },
  {
   "cell_type": "code",
   "execution_count": 21,
   "metadata": {},
   "outputs": [
    {
     "data": {
      "text/plain": [
       "['2013 - 34,000 km',\n",
       " '2013 - 34,000 km',\n",
       " '2013 - 34,000 km',\n",
       " '2013 - 15,000 km']"
      ]
     },
     "execution_count": 21,
     "metadata": {},
     "output_type": "execute_result"
    }
   ],
   "source": [
    "year_km_list"
   ]
  },
  {
   "cell_type": "code",
   "execution_count": 22,
   "metadata": {},
   "outputs": [
    {
     "data": {
      "text/plain": [
       "4"
      ]
     },
     "execution_count": 22,
     "metadata": {},
     "output_type": "execute_result"
    }
   ],
   "source": [
    "len(year_km_list)"
   ]
  },
  {
   "cell_type": "code",
   "execution_count": 23,
   "metadata": {},
   "outputs": [],
   "source": [
    "#fetching model of the used car\n",
    "for i in urls:\n",
    "    driver.get(i)\n",
    "    time.sleep(3)\n",
    "try:\n",
    "    for j in driver.find_elements_by_xpath('//span[@class=\"_2tW1I\"]'):\n",
    "        model_list.append(j.text)\n",
    "        \n",
    "except NoSuchElementException:\n",
    "    model_list.append('-')"
   ]
  },
  {
   "cell_type": "code",
   "execution_count": 24,
   "metadata": {},
   "outputs": [
    {
     "data": {
      "text/plain": [
       "['BMW 6 Series 2013-2015 640d Gran Coupe, 2013, Diesel',\n",
       " 'BMW 6 Series 640d Gran Coupe, 2013, Diesel',\n",
       " 'BMW 6 Series 640d Gran Coupe, 2013, Diesel',\n",
       " 'BMW X6 2009-2014 xDrive 40d, 2013, Diesel']"
      ]
     },
     "execution_count": 24,
     "metadata": {},
     "output_type": "execute_result"
    }
   ],
   "source": [
    "model_list"
   ]
  },
  {
   "cell_type": "code",
   "execution_count": 25,
   "metadata": {},
   "outputs": [
    {
     "data": {
      "text/plain": [
       "4"
      ]
     },
     "execution_count": 25,
     "metadata": {},
     "output_type": "execute_result"
    }
   ],
   "source": [
    "len(model_list)"
   ]
  },
  {
   "cell_type": "code",
   "execution_count": 26,
   "metadata": {},
   "outputs": [],
   "source": [
    "#fetching location of the used car\n",
    "for i in urls:\n",
    "    driver.get(i)\n",
    "    time.sleep(3)\n",
    "try:\n",
    "    for j in driver.find_elements_by_xpath('//span[@class=\"tjgMj\"]'):\n",
    "        location_list.append(j.text)\n",
    "        \n",
    "except NoSuchElementException:\n",
    "    location_list.append('-')"
   ]
  },
  {
   "cell_type": "code",
   "execution_count": 27,
   "metadata": {},
   "outputs": [
    {
     "data": {
      "text/plain": [
       "['BORIVALI WEST, MUMBAI',\n",
       " 'KANDIVALI WEST, MUMBAI',\n",
       " 'BORIVALI WEST, MUMBAI',\n",
       " 'BORIVALI WEST, MUMBAI']"
      ]
     },
     "execution_count": 27,
     "metadata": {},
     "output_type": "execute_result"
    }
   ],
   "source": [
    "location_list"
   ]
  },
  {
   "cell_type": "code",
   "execution_count": 28,
   "metadata": {},
   "outputs": [
    {
     "data": {
      "text/plain": [
       "4"
      ]
     },
     "execution_count": 28,
     "metadata": {},
     "output_type": "execute_result"
    }
   ],
   "source": [
    "len(location_list)"
   ]
  },
  {
   "cell_type": "code",
   "execution_count": 84,
   "metadata": {},
   "outputs": [],
   "source": [
    "#Opening the url\n",
    "url='https://www.cars24.com/'\n",
    "driver.get(url)\n",
    "\n",
    "#time.sleep(2)\n",
    "# Asking the user to input the keywords he/she wants to search\n",
    "#user_inp = input('Enter the product you want to search : ')"
   ]
  },
  {
   "cell_type": "code",
   "execution_count": 85,
   "metadata": {},
   "outputs": [],
   "source": [
    "search_bar = driver.find_element_by_xpath('//ul[@class=\"float-right _1yq3e\"]/li[3]/a').click()      # Locating search_bar by xpath\n",
    "#search_bar.clear()                                               # clearing search_bar\n",
    "#search_bar.send_keys(user_inp)                                   # sending user input to search bar\n",
    "#search_button = driver.find_element_by_xpath('//button[@class=\"searchbtn\"]')       # Locating search_button by xpath\n",
    "#search_button.click()                     "
   ]
  },
  {
   "cell_type": "code",
   "execution_count": 86,
   "metadata": {},
   "outputs": [],
   "source": [
    "product_urls = []\n",
    "start=0\n",
    "end=1\n",
    "for page in range(start,end):#for loop for scrapping 1 page\n",
    "    url=driver.find_elements_by_xpath('//div[@class=\"col-4\"]//a')       #scraping urls\n",
    "    for i in url:\n",
    "        product_urls.append(i.get_attribute(\"href\"))                        #appending the urls in product_urls list\n",
    "    #nxt_button=driver.find_element_by_xpath(\"//button[@class='rui-39-wj rui-3evoE rui-1JPTg']\")     #scraping the list of buttons from the page\n",
    "    #nxt_button.click()\n",
    "    #time.sleep(2)"
   ]
  },
  {
   "cell_type": "code",
   "execution_count": 87,
   "metadata": {},
   "outputs": [
    {
     "data": {
      "text/plain": [
       "['https://www.cars24.com/buy-used-Hyundai-VENUE-2021-cars-New-Delhi-1124913747/',\n",
       " 'https://www.cars24.com/buy-used-Maruti-IGNIS-2020-cars-New-Delhi-1104943044/',\n",
       " 'https://www.cars24.com/buy-used-Maruti-Swift-2013-cars-New-Delhi-1002989646/',\n",
       " 'https://www.cars24.com/buy-used-Maruti-Alto-800-2013-cars-New-Delhi-1055227042/',\n",
       " 'https://www.cars24.com/buy-used-Maruti-Alto-K10-2010-cars-New-Delhi-1006568426/',\n",
       " 'https://www.cars24.com/buy-used-Maruti-Alto-800-2014-cars-New-Delhi-1057739946/',\n",
       " 'https://www.cars24.com/buy-used-Maruti-Alto-800-2017-cars-Noida-1006047343/',\n",
       " 'https://www.cars24.com/buy-used-Maruti-Swift-2012-cars-New-Delhi-1001259345/',\n",
       " 'https://www.cars24.com/buy-used-Maruti-New--Wagon-R-2020-cars-New-Delhi-1001907405/',\n",
       " 'https://www.cars24.com/buy-used-Maruti-Alto-K10-2011-cars-New-Delhi-1015620526/',\n",
       " 'https://www.cars24.com/buy-used-Maruti-Alto-K10-2011-cars-New-Delhi-1007020229/',\n",
       " 'https://www.cars24.com/buy-used-Maruti-Wagon-R-1.0-2011-cars-New-Delhi-1008584126/',\n",
       " 'https://www.cars24.com/buy-used-Hyundai-Grand-i10-2014-cars-New-Delhi-1003359209/',\n",
       " 'https://www.cars24.com/buy-used-Maruti-Alto-800-2015-cars-Gurgaon-1050718426/',\n",
       " 'https://www.cars24.com/buy-used-Maruti-Alto-K10-2013-cars-Noida-1128886325/',\n",
       " 'https://www.cars24.com/buy-used-Maruti-Alto-800-2017-cars-New-Delhi-1008987447/',\n",
       " 'https://www.cars24.com/buy-used-Maruti-Alto-800-2015-cars-New-Delhi-1003246126/',\n",
       " 'https://www.cars24.com/buy-used-Maruti-Ritz-2015-cars-Noida-1003512122/',\n",
       " 'https://www.cars24.com/buy-used-Maruti-Alto-2020-cars-Gurgaon-1006239442/',\n",
       " 'https://www.cars24.com/buy-used-Renault-Kwid-2017-cars-Noida-1009708429/']"
      ]
     },
     "execution_count": 87,
     "metadata": {},
     "output_type": "execute_result"
    }
   ],
   "source": [
    "product_urls"
   ]
  },
  {
   "cell_type": "code",
   "execution_count": 88,
   "metadata": {},
   "outputs": [
    {
     "data": {
      "text/plain": [
       "20"
      ]
     },
     "execution_count": 88,
     "metadata": {},
     "output_type": "execute_result"
    }
   ],
   "source": [
    "len(product_urls)"
   ]
  },
  {
   "cell_type": "code",
   "execution_count": 91,
   "metadata": {},
   "outputs": [],
   "source": [
    "#fetching price of the used car\n",
    "for i in product_urls:\n",
    "    driver.get(i)\n",
    "    time.sleep(3)\n",
    "try:\n",
    "    for j in driver.find_elements_by_xpath('//div[@class=\"_19zc5\"]'):\n",
    "        price_list.append(j.text)\n",
    "        \n",
    "except NoSuchElementException:\n",
    "    price_list.append('-')"
   ]
  },
  {
   "cell_type": "code",
   "execution_count": 92,
   "metadata": {},
   "outputs": [
    {
     "data": {
      "text/plain": [
       "['₹6,015/month\\n₹2,70,399',\n",
       " '₹6,137/month\\n₹2,75,899',\n",
       " '₹5,755/month\\n₹2,58,699',\n",
       " '',\n",
       " '₹8,277/month\\n₹3,72,099',\n",
       " '₹8,331/month\\n₹3,74,499',\n",
       " '₹6,785/month\\n₹3,04,999',\n",
       " '']"
      ]
     },
     "execution_count": 92,
     "metadata": {},
     "output_type": "execute_result"
    }
   ],
   "source": [
    "price_list"
   ]
  },
  {
   "cell_type": "code",
   "execution_count": 93,
   "metadata": {},
   "outputs": [
    {
     "data": {
      "text/plain": [
       "8"
      ]
     },
     "execution_count": 93,
     "metadata": {},
     "output_type": "execute_result"
    }
   ],
   "source": [
    "len(price_list)"
   ]
  },
  {
   "cell_type": "code",
   "execution_count": 94,
   "metadata": {},
   "outputs": [],
   "source": [
    "#fetching year and km of the used car\n",
    "for i in product_urls:\n",
    "    driver.get(i)\n",
    "    time.sleep(3)\n",
    "try:\n",
    "    for j in driver.find_elements_by_xpath('//ul[@class=\"bVR0c\"]/li[1]'):\n",
    "        year_km_list.append(j.text)\n",
    "        \n",
    "except NoSuchElementException:\n",
    "    year_km_list.append('-')"
   ]
  },
  {
   "cell_type": "code",
   "execution_count": 95,
   "metadata": {},
   "outputs": [
    {
     "data": {
      "text/plain": [
       "['50,024 km',\n",
       " '32,258 km',\n",
       " '1,29,709 km',\n",
       " '',\n",
       " '15,032 km',\n",
       " '2,723 km',\n",
       " '22,091 km',\n",
       " '']"
      ]
     },
     "execution_count": 95,
     "metadata": {},
     "output_type": "execute_result"
    }
   ],
   "source": [
    "year_km_list"
   ]
  },
  {
   "cell_type": "code",
   "execution_count": 96,
   "metadata": {},
   "outputs": [],
   "source": [
    "fuel_list=[]"
   ]
  },
  {
   "cell_type": "code",
   "execution_count": 97,
   "metadata": {},
   "outputs": [],
   "source": [
    "#fetching fuel of the used car\n",
    "for i in product_urls:\n",
    "    driver.get(i)\n",
    "    time.sleep(3)\n",
    "try:\n",
    "    for j in driver.find_elements_by_xpath('//ul[@class=\"bVR0c\"]/li[3]'):\n",
    "        fuel_list.append(j.text)\n",
    "        \n",
    "except NoSuchElementException:\n",
    "    fuel_list.append('-')"
   ]
  },
  {
   "cell_type": "code",
   "execution_count": 98,
   "metadata": {},
   "outputs": [
    {
     "data": {
      "text/plain": [
       "['Petrol', 'Petrol', 'Petrol', '']"
      ]
     },
     "execution_count": 98,
     "metadata": {},
     "output_type": "execute_result"
    }
   ],
   "source": [
    "fuel_list"
   ]
  },
  {
   "cell_type": "code",
   "execution_count": 99,
   "metadata": {},
   "outputs": [],
   "source": [
    "#fetching model of the used car\n",
    "for i in product_urls:\n",
    "    driver.get(i)\n",
    "    time.sleep(3)\n",
    "try:\n",
    "    for j in driver.find_elements_by_xpath('//div[@class=\"_1jpRU\"]/h2'):\n",
    "        model_list.append(j.text)\n",
    "        \n",
    "except NoSuchElementException:\n",
    "    model_list.append('-')"
   ]
  },
  {
   "cell_type": "code",
   "execution_count": 100,
   "metadata": {},
   "outputs": [
    {
     "data": {
      "text/plain": [
       "['2015 Maruti Alto 800',\n",
       " '2017 Renault Kwid',\n",
       " '2015 Maruti Alto K10',\n",
       " '',\n",
       " '2020 Maruti Alto',\n",
       " '2015 Maruti Ritz',\n",
       " '2015 Maruti Alto 800',\n",
       " '']"
      ]
     },
     "execution_count": 100,
     "metadata": {},
     "output_type": "execute_result"
    }
   ],
   "source": [
    "model_list"
   ]
  },
  {
   "cell_type": "code",
   "execution_count": null,
   "metadata": {},
   "outputs": [],
   "source": []
  }
 ],
 "metadata": {
  "kernelspec": {
   "display_name": "Python 3",
   "language": "python",
   "name": "python3"
  },
  "language_info": {
   "codemirror_mode": {
    "name": "ipython",
    "version": 3
   },
   "file_extension": ".py",
   "mimetype": "text/x-python",
   "name": "python",
   "nbconvert_exporter": "python",
   "pygments_lexer": "ipython3",
   "version": "3.8.8"
  }
 },
 "nbformat": 4,
 "nbformat_minor": 4
}
